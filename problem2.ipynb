{
 "cells": [
  {
   "cell_type": "code",
   "execution_count": 4,
   "id": "d2d2f739-ed74-420c-83fa-47f485cb6a06",
   "metadata": {},
   "outputs": [
    {
     "name": "stdout",
     "output_type": "stream",
     "text": [
      "Gini: 0.4550, Entropy: 0.9941, Misclassification Error: 0.3499\n",
      "Information Gain: 0.7825\n",
      "First split feature: Uniformity_Cell_Size\n",
      "Decision boundary value: 2.50\n"
     ]
    }
   ],
   "source": [
    "import pandas as pd\n",
    "import numpy as np\n",
    "from sklearn.tree import DecisionTreeClassifier\n",
    "\n",
    "# Load data\n",
    "url = \"https://archive.ics.uci.edu/ml/machine-learning-databases/breast-cancer-wisconsin/breast-cancer-wisconsin.data\"\n",
    "df = pd.read_csv(url, header=None, na_values=\"?\")\n",
    "df.dropna(inplace=True)\n",
    "df = df.astype(int)\n",
    "\n",
    "# Define features and target\n",
    "df.columns = ['ID', 'Clump_Thickness', 'Uniformity_Cell_Size', 'Uniformity_Cell_Shape', 'Marginal_Adhesion',\n",
    "              'Single_Epithelial_Cell_Size', 'Bare_Nuclei', 'Bland_Chromatin', 'Normal_Nucleoli', 'Mitoses', 'Class']\n",
    "X = df.iloc[:, 1:-1]\n",
    "y = df['Class']\n",
    "\n",
    "# Train decision tree\n",
    "clf = DecisionTreeClassifier(max_depth=2, min_samples_leaf=2, min_samples_split=5, criterion='gini', random_state=42)\n",
    "clf.fit(X, y)\n",
    "\n",
    "# Compute Gini, Entropy, and Misclassification Error\n",
    "def calculate_metrics(tree):\n",
    "    root = tree.tree_\n",
    "    gini = root.impurity[0]\n",
    "    entropy = -(gini * np.log2(gini + 1e-9) + (1 - gini) * np.log2(1 - gini + 1e-9))\n",
    "    misclassification = 1 - np.max(root.value[0]) / np.sum(root.value[0])\n",
    "    return gini, entropy, float(misclassification)\n",
    "\n",
    "gini, entropy, misclassification = calculate_metrics(clf)\n",
    "print(f\"Gini: {gini:.4f}, Entropy: {entropy:.4f}, Misclassification Error: {misclassification:.4f}\")\n",
    "\n",
    "# Compute Information Gain\n",
    "info_gain = entropy - np.sum(clf.tree_.weighted_n_node_samples[1:] / clf.tree_.weighted_n_node_samples[0] * clf.tree_.impurity[1:])\n",
    "print(f\"Information Gain: {info_gain:.4f}\")\n",
    "\n",
    "# Get first split feature and threshold\n",
    "feature_index = clf.tree_.feature[0]\n",
    "feature_name = X.columns[feature_index]\n",
    "threshold = clf.tree_.threshold[0]\n",
    "\n",
    "print(f\"First split feature: {feature_name}\")\n",
    "print(f\"Decision boundary value: {threshold:.2f}\")\n"
   ]
  },
  {
   "cell_type": "code",
   "execution_count": null,
   "id": "464c0907-d0cb-4a51-8a7c-92a29f684086",
   "metadata": {},
   "outputs": [],
   "source": []
  }
 ],
 "metadata": {
  "kernelspec": {
   "display_name": "Python 3 (ipykernel)",
   "language": "python",
   "name": "python3"
  },
  "language_info": {
   "codemirror_mode": {
    "name": "ipython",
    "version": 3
   },
   "file_extension": ".py",
   "mimetype": "text/x-python",
   "name": "python",
   "nbconvert_exporter": "python",
   "pygments_lexer": "ipython3",
   "version": "3.12.0"
  }
 },
 "nbformat": 4,
 "nbformat_minor": 5
}

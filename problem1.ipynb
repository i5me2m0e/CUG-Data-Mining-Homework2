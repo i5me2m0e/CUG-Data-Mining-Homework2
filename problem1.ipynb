{
 "cells": [
  {
   "cell_type": "code",
   "execution_count": 2,
   "id": "fd71c4bc-6326-4333-9de0-ce100ff44da8",
   "metadata": {},
   "outputs": [
    {
     "name": "stdout",
     "output_type": "stream",
     "text": [
      "Depth 1:\n",
      "  Recall: 0.6666666666666666\n",
      "  Precision: 0.5\n",
      "  F1 Score: 0.5555555555555555\n",
      "Depth 2:\n",
      "  Recall: 0.9743589743589745\n",
      "  Precision: 0.9761904761904763\n",
      "  F1 Score: 0.974320987654321\n",
      "Depth 3:\n",
      "  Recall: 1.0\n",
      "  Precision: 1.0\n",
      "  F1 Score: 1.0\n",
      "Depth 4:\n",
      "  Recall: 1.0\n",
      "  Precision: 1.0\n",
      "  F1 Score: 1.0\n",
      "Depth 5:\n",
      "  Recall: 1.0\n",
      "  Precision: 1.0\n",
      "  F1 Score: 1.0\n"
     ]
    },
    {
     "name": "stderr",
     "output_type": "stream",
     "text": [
      "C:\\Users\\imeme\\AppData\\Local\\Programs\\Python\\Python312\\Lib\\site-packages\\sklearn\\metrics\\_classification.py:1565: UndefinedMetricWarning: Precision is ill-defined and being set to 0.0 in labels with no predicted samples. Use `zero_division` parameter to control this behavior.\n",
      "  _warn_prf(average, modifier, f\"{metric.capitalize()} is\", len(result))\n"
     ]
    }
   ],
   "source": [
    "from sklearn.datasets import load_iris\n",
    "import pandas as pd\n",
    "\n",
    "iris = load_iris()\n",
    "df = pd.DataFrame(iris.data, columns=iris.feature_names)\n",
    "df['target'] = iris.target\n",
    "\n",
    "from sklearn.tree import DecisionTreeClassifier\n",
    "from sklearn.model_selection import train_test_split\n",
    "from sklearn.metrics import precision_score, recall_score, f1_score\n",
    "\n",
    "X_train, X_test, y_train, y_test = train_test_split(df.iloc[:, :-1], df['target'], test_size=0.3, random_state=42)\n",
    "\n",
    "for depth in range(1, 6):\n",
    "    clf = DecisionTreeClassifier(max_depth=depth, min_samples_leaf=2, min_samples_split=5, random_state=42)\n",
    "    clf.fit(X_train, y_train)\n",
    "    y_pred = clf.predict(X_test)\n",
    "\n",
    "    print(f\"Depth {depth}:\")\n",
    "    print(f\"  Recall: {recall_score(y_test, y_pred, average='macro')}\")\n",
    "    print(f\"  Precision: {precision_score(y_test, y_pred, average='macro')}\")\n",
    "    print(f\"  F1 Score: {f1_score(y_test, y_pred, average='macro')}\")\n"
   ]
  },
  {
   "cell_type": "code",
   "execution_count": null,
   "id": "6ce5784c-dc85-44fc-ae7a-49030a1c4bb0",
   "metadata": {},
   "outputs": [],
   "source": []
  },
  {
   "cell_type": "code",
   "execution_count": null,
   "id": "5b19f877-89b8-4c7d-b2a0-a6fae05a7401",
   "metadata": {},
   "outputs": [],
   "source": []
  }
 ],
 "metadata": {
  "kernelspec": {
   "display_name": "Python 3 (ipykernel)",
   "language": "python",
   "name": "python3"
  },
  "language_info": {
   "codemirror_mode": {
    "name": "ipython",
    "version": 3
   },
   "file_extension": ".py",
   "mimetype": "text/x-python",
   "name": "python",
   "nbconvert_exporter": "python",
   "pygments_lexer": "ipython3",
   "version": "3.12.0"
  }
 },
 "nbformat": 4,
 "nbformat_minor": 5
}
